{
 "cells": [
  {
   "cell_type": "code",
   "execution_count": 1,
   "metadata": {},
   "outputs": [],
   "source": [
    "import numpy as np\n",
    "from scipy.special import expit  # Logistic function\n",
    "\n",
    "import pandas as pd\n",
    "UnprocessedDF = pd.read_csv('UnprocessedDF.csv')\n"
   ]
  },
  {
   "cell_type": "markdown",
   "metadata": {},
   "source": [
    "Going to make a few presumptions here. Firstly that the amount of work done at week 48 is representative of their general work and that we are classifying full-time work at 30 hours and above and part time work as less than 30."
   ]
  },
  {
   "cell_type": "code",
   "execution_count": 156,
   "metadata": {},
   "outputs": [],
   "source": [
    "# Going to make a few presumptions here. Firstly that the amount of work done at week 48 is representative of their general work and that\n",
    "# we are classifying full-time work at 30 hours and above and part time work as less than 30. Non-responses are given a 0\n",
    "\n",
    "EmploymentCols = [col for col in UnprocessedDF.columns if \"EMP_HOURS\" in col]\n",
    "\n",
    "def recode_work(value):\n",
    "    if value >= 30:\n",
    "        return 2\n",
    "    elif value >= 0 and value < 30:\n",
    "        return 1\n",
    "    elif value == -4:\n",
    "        return 0 \n",
    "    return value\n",
    "\n",
    "UnprocessedDF[EmploymentCols] = UnprocessedDF[EmploymentCols].applymap(recode_work)\n",
    "\n",
    "\n",
    "for col in EmploymentCols:\n",
    "    # Remove rows where the column value is -3\n",
    "    UnprocessedDF = UnprocessedDF[UnprocessedDF[col] != -3]\n",
    "\n"
   ]
  },
  {
   "cell_type": "markdown",
   "metadata": {},
   "source": [
    "We are going to combine divorced and seperated here and to remove entries where there was no data given for relationship data. We are also going to remove instances of widowed as those are very far and in-between."
   ]
  },
  {
   "cell_type": "code",
   "execution_count": 157,
   "metadata": {},
   "outputs": [],
   "source": [
    "MarrCols = [col for col in UnprocessedDF.columns if \"MAR_STATUS\" in col]\n",
    "\n",
    "# Combining divorced and seperated \n",
    "\n",
    "def recode_marriage(value):\n",
    "    if value == 4:\n",
    "        return 3\n",
    "    return value\n",
    "\n",
    "UnprocessedDF[MarrCols] = UnprocessedDF[MarrCols].applymap(recode_marriage)\n",
    "\n",
    "\n",
    "for col in MarrCols:\n",
    "    # Remove rows where the column value is -3\n",
    "    UnprocessedDF = UnprocessedDF[UnprocessedDF[col] != -3]\n",
    "\n",
    "\n",
    "# Recode so that a non-response for the first 13 years is simply coded as non-married as all 14 and under are not interviewed.\n",
    "\n",
    "MarrColsFirst3Years = ['MAR_STATUS_1997.12','MAR_STATUS_1998.12']\n",
    "\n",
    "def recode_marriageNA(value):\n",
    "    if value == -4:\n",
    "        return 0\n",
    "    return value\n",
    "\n",
    "UnprocessedDF[MarrColsFirst3Years] = UnprocessedDF[MarrColsFirst3Years].applymap(recode_marriageNA)\n",
    "\n",
    "MarrCols = [value for value in MarrCols if value not in MarrColsFirst3Years]\n",
    "\n",
    "for col in MarrCols:\n",
    "    #Removing Widowed\n",
    "    UnprocessedDF = UnprocessedDF[UnprocessedDF[col] != -1]\n",
    "    UnprocessedDF = UnprocessedDF[UnprocessedDF[col] != -2]\n",
    "    UnprocessedDF = UnprocessedDF[UnprocessedDF[col] != -3]\n",
    "    UnprocessedDF = UnprocessedDF[UnprocessedDF[col] != -4]\n",
    "    UnprocessedDF = UnprocessedDF[UnprocessedDF[col] != -5]\n",
    "    UnprocessedDF = UnprocessedDF[UnprocessedDF[col] != 5]"
   ]
  },
  {
   "cell_type": "code",
   "execution_count": 158,
   "metadata": {},
   "outputs": [],
   "source": [
    "#UnprocessedDF.to_csv('Semiprocessed.csv')"
   ]
  },
  {
   "cell_type": "markdown",
   "metadata": {},
   "source": [
    "Code to rename the Sexually Active Column so that it is in two Formats. We have the columns Sexually_Active and Sexually_Active_B. \n",
    "\n",
    "If the interviewee has responded \"Yes\" to being sexually active at the intiial interview or being sexually active in a year then we determine that they have bencome sexually active.  "
   ]
  },
  {
   "cell_type": "code",
   "execution_count": 159,
   "metadata": {},
   "outputs": [],
   "source": [
    "#DATING STUFF. We must first code it so.\n",
    "\n",
    "#The logic is a bit strange due to the fact that the logic is coded in a weird way. If anyone has been interviewed in the past, then they will be skipped for the question (HAS ever had sex)\n",
    "# However, they will still be asked every year or so about whether any sexual activity has occured since the last interview.\n",
    "\n",
    "def create_rename_dict():\n",
    "    rename_dict = {}\n",
    "    \n",
    "    # The first year without any periods\n",
    "    rename_dict[\"YSAQ-299\"] = \"SexuallyActive_1997\"\n",
    "    rename_dict[\"YSAQ-299B\"] = \"SexuallyActive_1998B\"\n",
    "    rename_dict[\"YSAQ2-299\"] = \"SexuallyActive_2002\"\n",
    "    rename_dict[\"YSAQ2-299B\"] = \"SexuallyActive_2002B\"\n",
    "\n",
    "#First iteration should always be hardcoded and the rest from the loop\n",
    "    \n",
    "    # Loop through years from 1998 to 2009\n",
    "    for year in range(1998, 2002):  # Years from 1998 to 2009\n",
    "        index = year - 1997  # Calculate the index for .1, .2, etc.\n",
    "        rename_dict[f\"YSAQ-299.{index}\"] = f\"SexuallyActive_{year}\"\n",
    "\n",
    "#Somewhat complicated because of the DLI aspect. It works so that if anyone is polled once they they go to the next variable\n",
    "\n",
    "    for year in range(1999, 2002):  # Years from 1998 to 2009\n",
    "        index = year - 1998  # Calculate the index for .1, .2, etc.\n",
    "        rename_dict[f\"YSAQ-299B.{index}\"] = f\"SexuallyActive_{year}B\"\n",
    "\n",
    "    for year in range(2003, 2006):  # Years from 1998 to 2009\n",
    "        index = year - 2002  # Calculate the index for .1, .2, etc.\n",
    "        rename_dict[f\"YSAQ2-299.{index}\"] = f\"SexuallyActive_{year}\"\n",
    "\n",
    "\n",
    "    for year in range(2003, 2012):  # Years from 1998 to 2009\n",
    "        index = year - 2002  # Calculate the index for .1, .2, etc.\n",
    "        rename_dict[f\"YSAQ2-299B.{index}\"] = f\"SexuallyActive_{year}B\"\n",
    "\n",
    "    rename_dict[\"YSAQ2-299.4\"] = \"SexuallyActive_2013\"\n",
    "    rename_dict[\"YSAQ2-299.5\"] = \"SexuallyActive_2015\"\n",
    "\n",
    "\n",
    "    return rename_dict\n",
    "\n",
    "# Generate the renaming dictionary\n",
    "RenameSexuallyActive = create_rename_dict()"
   ]
  },
  {
   "cell_type": "code",
   "execution_count": 160,
   "metadata": {},
   "outputs": [],
   "source": [
    "UnprocessedDF.rename(columns=RenameSexuallyActive, inplace=True)"
   ]
  },
  {
   "cell_type": "code",
   "execution_count": 161,
   "metadata": {},
   "outputs": [],
   "source": [
    "UnprocessedDF = UnprocessedDF[sorted(UnprocessedDF.columns)]"
   ]
  },
  {
   "cell_type": "code",
   "execution_count": 162,
   "metadata": {},
   "outputs": [],
   "source": [
    "#Function to Compare the two values for every year, if they say yes FOR EITHER column then they are determined to be sexually active\n",
    "\n",
    "def comparesexual(row, col1, col2):\n",
    "    #Check if sexually active ever\n",
    "    if (row[col1] == 1 or row[col2] == 1):\n",
    "        return 1\n",
    "    # Because clearly not sexually ACTIVE ever:\n",
    "    elif row[col1] == 0:\n",
    "        return 0 \n",
    "    else:\n",
    "        return row[col2]\n",
    "    "
   ]
  },
  {
   "cell_type": "code",
   "execution_count": 163,
   "metadata": {},
   "outputs": [],
   "source": [
    "# List of years to loop through\n",
    "years = list(range(1998, 2006))\n",
    "\n",
    "for year in years:\n",
    "    col1 = f'SexuallyActive_{year}'\n",
    "    col2 = f'SexuallyActive_{year}B'\n",
    "    new_col_name = f'FinalState_{year}'\n",
    "\n",
    "    UnprocessedDF[new_col_name] = UnprocessedDF.apply(lambda row: comparesexual(row, col1, col2), axis=1)"
   ]
  },
  {
   "cell_type": "code",
   "execution_count": 164,
   "metadata": {},
   "outputs": [],
   "source": [
    "remaindersexualactivity = {\n",
    "    'SexuallyActive_1997': 'FinalState_1997',\n",
    "    'SexuallyActive_2006B': 'FinalState_2006',\n",
    "    'SexuallyActive_2007B': 'FinalState_2007',\n",
    "    'SexuallyActive_2008B': 'FinalState_2008',\n",
    "    'SexuallyActive_2009B': 'FinalState_2009',\n",
    "    'SexuallyActive_2010B': 'FinalState_2010',\n",
    "    'SexuallyActive_2011B': 'FinalState_2011',\n",
    "    'SexuallyActive_2013': 'FinalState_2013',\n",
    "    'SexuallyActive_2015': 'FinalState_2015'\n",
    "\n",
    "}\n",
    "UnprocessedDF.rename(columns=remaindersexualactivity, inplace=True)\n",
    "\n",
    "UnprocessedDF = UnprocessedDF[sorted(UnprocessedDF.columns)]"
   ]
  },
  {
   "cell_type": "code",
   "execution_count": 165,
   "metadata": {},
   "outputs": [],
   "source": [
    "#Subjects under the age of 14 are not asked about sexual activity therefore we will assume that the valid non-response are simply nos. They however, will get the interview at age 14 so it makes no major difference.\n",
    "\n",
    "def recode_UA97(row):\n",
    "    if row['FinalState_1997'] == -4 and (row['KEY!AGEDOL'] == 12 or row['KEY!AGEDOL'] == 13):\n",
    "        return 0  # Recode col1 to 99 if both are 1\n",
    "    else:\n",
    "        return row['FinalState_1997']  # Keep original value otherwise\n",
    "\n",
    "#Think there was a sampling gap here. \n",
    "\n",
    "def recode_UA98(row):\n",
    "    if row['FinalState_1998'] == -4 and (row['KEY!AGEDOL'] == 12 or row['KEY!AGEDOL'] == 13):\n",
    "        return 0  # Recode col1 to 99 if both are 1\n",
    "    else:\n",
    "        return row['FinalState_1998']  # Keep original value otherwise\n",
    "\n",
    "# Apply the function to recode col1\n",
    "UnprocessedDF['FinalState_1997'] = UnprocessedDF.apply(recode_UA97, axis=1)\n",
    "\n",
    "UnprocessedDF['FinalState_1998'] = UnprocessedDF.apply(recode_UA98, axis=1)"
   ]
  },
  {
   "cell_type": "markdown",
   "metadata": {},
   "source": [
    "Sadly, the even years are not polled after the year 2011 and there is no data for after 2015 so we make the assumption that everyone after the year 2015 retains the same value."
   ]
  },
  {
   "cell_type": "code",
   "execution_count": 166,
   "metadata": {},
   "outputs": [],
   "source": [
    "# Extra Category for Missing Data. Presume that the \n",
    "\n",
    "UnprocessedDF['FinalState_2012'] = UnprocessedDF['FinalState_2011']\n",
    "UnprocessedDF['FinalState_2014'] = UnprocessedDF['FinalState_2013']\n",
    "UnprocessedDF['FinalState_2016'] = UnprocessedDF['FinalState_2015']\n",
    "UnprocessedDF['FinalState_2016'] = UnprocessedDF['FinalState_2015']\n",
    "UnprocessedDF['FinalState_2017'] = UnprocessedDF['FinalState_2015']\n",
    "UnprocessedDF['FinalState_2018'] = UnprocessedDF['FinalState_2015']\n",
    "UnprocessedDF['FinalState_2019'] = UnprocessedDF['FinalState_2015']"
   ]
  },
  {
   "cell_type": "code",
   "execution_count": 167,
   "metadata": {},
   "outputs": [],
   "source": [
    "#Sorting the Values Year by Year\n",
    "\n",
    "SexualActivitycols = sorted([col for col in UnprocessedDF.columns if \"FinalState_\" in col])\n",
    "\n",
    "Relationshipcols = sorted([col for col in UnprocessedDF.columns if \"MAR_STATUS_\" in col])\n",
    "\n",
    "\n",
    "#UnprocessedDF[MarrCols] = UnprocessedDF[MarrCols].applymap(recode_marriage)\n",
    "#Note: Rs without any biological children are assigned a valid skip (-4).\n"
   ]
  },
  {
   "cell_type": "markdown",
   "metadata": {},
   "source": [
    "This next block of code does two things.\n",
    "\n",
    "1. Because it is possible for individuals to be sexually active but not having been sexually active within the last year and because of skipped surveys, we loop through the dataframe so that if an individual has ever been sexually active, the 1 value carries on.\n",
    "\n",
    "2. Also because of the possbility of a missed survey, we decided to encode it so that marriage implies being sexually active"
   ]
  },
  {
   "cell_type": "code",
   "execution_count": 168,
   "metadata": {},
   "outputs": [],
   "source": [
    "def comparemarriage(row, marr, pastsexualhist):\n",
    "    if (row[marr] == 0):\n",
    "        return row[pastsexualhist]\n",
    "    elif (row[marr] != 0):\n",
    "        return 1\n",
    "\n",
    "#First pass on values where sexually active individuals remain sexually active in further years\n",
    "\n",
    "\n",
    "final_state_columns = sorted([col for col in UnprocessedDF.columns if col.startswith(\"FinalState_\")], key=lambda x: int(x.split('_')[1]))\n",
    "\n",
    "# Loop through each row\n",
    "for index, row in UnprocessedDF.iterrows():\n",
    "    # Initialize a flag to track if a previous column has a value of 1\n",
    "    found_one = False\n",
    "    \n",
    "    # Loop through the identified columns\n",
    "    for col in final_state_columns:\n",
    "        if found_one:\n",
    "            # If a previous column had a value of 1, set current column to 1\n",
    "            UnprocessedDF.at[index, col] = 1\n",
    "        elif row[col] == 1:\n",
    "            # If current column is 1, set the flag\n",
    "            found_one = True\n",
    "\n",
    "\n",
    "\n",
    "for i,(a,b) in enumerate(zip(Relationshipcols,SexualActivitycols)):\n",
    "    # Apply logic so that the married individuals are sexually active\n",
    "    UnprocessedDF[b] = UnprocessedDF.apply(lambda row: comparemarriage(row, a, b), axis=1)\n",
    "\n"
   ]
  },
  {
   "cell_type": "code",
   "execution_count": 169,
   "metadata": {},
   "outputs": [],
   "source": [
    "# Running the first instance of the code one more time in the case that the marriage variable changes things\n",
    "\n",
    "final_state_columns = sorted([col for col in UnprocessedDF.columns if col.startswith(\"FinalState_\")], key=lambda x: int(x.split('_')[1]))\n",
    "\n",
    "# Loop through each row\n",
    "for index, row in UnprocessedDF.iterrows():\n",
    "    # Initialize a flag to track if a previous column has a value of 1\n",
    "    found_one = False\n",
    "    \n",
    "    # Loop through the identified columns\n",
    "    for col in final_state_columns:\n",
    "        if found_one:\n",
    "            # If a previous column had a value of 1, set current column to 1\n",
    "            UnprocessedDF.at[index, col] = 1\n",
    "        elif row[col] == 1:\n",
    "            # If current column is 1, set the flag\n",
    "            found_one = True\n",
    "\n",
    "\n",
    "for col in SexualActivitycols:\n",
    "    UnprocessedDF = UnprocessedDF[UnprocessedDF[col] != -1]\n",
    "    UnprocessedDF = UnprocessedDF[UnprocessedDF[col] != -2]\n",
    "    UnprocessedDF = UnprocessedDF[UnprocessedDF[col] != -3]\n",
    "    UnprocessedDF = UnprocessedDF[UnprocessedDF[col] != -4]\n",
    "    UnprocessedDF = UnprocessedDF[UnprocessedDF[col] != -5]\n",
    "\n"
   ]
  },
  {
   "cell_type": "markdown",
   "metadata": {},
   "source": [
    "Renaming the First Column of the Child Category so that it can be easily looped. The variable CV_BIO_CHILD_HH means having a child in the same HH and CV_BIO_CHILD_NR means having a child living in a different household."
   ]
  },
  {
   "cell_type": "code",
   "execution_count": 170,
   "metadata": {},
   "outputs": [],
   "source": [
    "updatechildcount= {\n",
    "    'CV_BIO_CHILD_HH': 'CV_BIO_CHILD_HH.0',\n",
    "    'CV_BIO_CHILD_NR': 'CV_BIO_CHILD_NR.0',\n",
    "    'CV_BIO_CHILD_HH_U18': 'CV_BIO_CHILD_HH.18',\n",
    "    'CV_BIO_CHILD_NR_U18': 'CV_BIO_CHILD_NR.18',\n",
    "}\n",
    "\n",
    "UnprocessedDF.rename(columns=updatechildcount, inplace=True)"
   ]
  },
  {
   "cell_type": "code",
   "execution_count": 171,
   "metadata": {},
   "outputs": [],
   "source": [
    "#Since subjects without kids are not polled we assume that they are not parents. Elsewise we code it so they if they have a child they are a parent.\n",
    "\n",
    "def checkbirths(row, col1, col2):\n",
    "    # Return 1 if either value is 0 or above, else return 0\n",
    "    if row[col1] > 0 or row[col2] > 0:\n",
    "        return 1\n",
    "    elif row[col1] == -4 or row[col2] == -4:\n",
    "        return 0\n",
    "    else:\n",
    "        return row[col1]"
   ]
  },
  {
   "cell_type": "code",
   "execution_count": 172,
   "metadata": {},
   "outputs": [],
   "source": [
    "suffix = range(0, 20)\n",
    "\n",
    "ChildinHouse = sorted([col for col in UnprocessedDF.columns if \"CV_BIO_CHILD_HH\" in col])\n",
    "ChildNotinHouse = sorted([col for col in UnprocessedDF.columns if \"CV_BIO_CHILD_NR\" in col])\n",
    "\n",
    "listofyears = [1997,1998,1999,2000,2001,2002,2003,2004,2005,2006,2007,2008,2009,2010,2011,2013,2015,2017,2019]\n",
    "\n",
    "for i,(a,b) in enumerate(zip(ChildinHouse,ChildNotinHouse)):\n",
    "    # Apply logic so that the married individuals are sexually active\n",
    "    NewColumnName = \"ChildProduced_\" + str(listofyears[i])\n",
    "    UnprocessedDF[NewColumnName] = UnprocessedDF.apply(lambda row: checkbirths(row, a, b), axis=1)\n",
    "\n",
    "\n",
    "# Once again no data after 2015. \n",
    "    \n",
    "UnprocessedDF['ChildProduced_2012'] = UnprocessedDF['ChildProduced_2011']\n",
    "UnprocessedDF['ChildProduced_2014'] = UnprocessedDF['ChildProduced_2013']\n",
    "UnprocessedDF['ChildProduced_2016'] = UnprocessedDF['ChildProduced_2015']\n",
    "UnprocessedDF['ChildProduced_2018'] = UnprocessedDF['ChildProduced_2017']\n"
   ]
  },
  {
   "cell_type": "code",
   "execution_count": 173,
   "metadata": {},
   "outputs": [],
   "source": [
    "#Recode Non-Answers to be a 0 since these students have never been interviewed and I don't want to drop the DS\n",
    "\n",
    "def recode_Child97(row):\n",
    "    if row['ChildProduced_1997'] == -5 and (row['KEY!AGEDOL'] == 12 or row['KEY!AGEDOL'] == 13 or row['KEY!AGEDOL'] == 14):\n",
    "        return 0  # Recode col1 to 99 if both are 1\n",
    "    else:\n",
    "        return row['ChildProduced_1997']  # Keep original value otherwise\n",
    "\n",
    "#Think there was a sampling gap here. \n",
    "\n",
    "def recode_Child98(row):\n",
    "    if row['ChildProduced_1998'] == -5 and (row['KEY!AGEDOL'] == 12 or row['KEY!AGEDOL'] == 13 or row['KEY!AGEDOL'] == 14):\n",
    "        return 0  # Recode col1 to 99 if both are 1\n",
    "    else:\n",
    "        return row['ChildProduced_1998']  # Keep original value otherwise\n",
    "\n",
    "# Apply the function to recode col1\n",
    "UnprocessedDF['ChildProduced_1997'] = UnprocessedDF.apply(recode_Child97, axis=1)\n",
    "\n",
    "UnprocessedDF['ChildProduced_1998'] = UnprocessedDF.apply(recode_Child98, axis=1)"
   ]
  },
  {
   "cell_type": "markdown",
   "metadata": {},
   "source": [
    "Logic to essentially apply that if someone has ever had a child they will be a parent in subsequent years"
   ]
  },
  {
   "cell_type": "code",
   "execution_count": 174,
   "metadata": {},
   "outputs": [],
   "source": [
    "childcolumns = sorted([col for col in UnprocessedDF.columns if col.startswith(\"ChildProduced_\")], key=lambda x: int(x.split('_')[1]))\n",
    "\n",
    "# Loop through each row\n",
    "for index, row in UnprocessedDF.iterrows():\n",
    "    # Initialize a flag to track if a previous column has a value of 1\n",
    "    found_one = False\n",
    "    \n",
    "    # Loop through the identified columns\n",
    "    for col in childcolumns:\n",
    "        if found_one:\n",
    "            # If a previous column had a value of 1, set current column to 1\n",
    "            UnprocessedDF.at[index, col] = 1\n",
    "        elif row[col] == 1:\n",
    "            # If current column is 1, set the flag\n",
    "            found_one = True"
   ]
  },
  {
   "cell_type": "markdown",
   "metadata": {},
   "source": [
    "Likewise, if they are not a parent in a given year, then we assume that they are not a parent in previous years"
   ]
  },
  {
   "cell_type": "code",
   "execution_count": 175,
   "metadata": {},
   "outputs": [],
   "source": [
    "childcolumnsreverse = sorted([col for col in UnprocessedDF.columns if col.startswith(\"ChildProduced_\")], key=lambda x: int(x.split('_')[1]),reverse=True)\n",
    "\n",
    "# Loop through each row\n",
    "for index, row in UnprocessedDF.iterrows():\n",
    "    # Initialize a flag to track if a previous column has a value of 1\n",
    "    found_one = False\n",
    "    \n",
    "    # Loop through the identified columns\n",
    "    for col in childcolumnsreverse:\n",
    "        if found_one:\n",
    "            # If a previous column had a value of 0, set current column to 0\n",
    "            UnprocessedDF.at[index, col] = 0\n",
    "        elif row[col] == 0:\n",
    "            # If current column is 1, set the flag\n",
    "            found_one = True"
   ]
  },
  {
   "cell_type": "code",
   "execution_count": 176,
   "metadata": {},
   "outputs": [],
   "source": [
    "UnprocessedDF = UnprocessedDF[sorted(UnprocessedDF.columns)]"
   ]
  },
  {
   "cell_type": "code",
   "execution_count": 177,
   "metadata": {},
   "outputs": [],
   "source": [
    "for col in childcolumns:\n",
    "    UnprocessedDF = UnprocessedDF[UnprocessedDF[col] != -1]\n",
    "    UnprocessedDF = UnprocessedDF[UnprocessedDF[col] != -2]\n",
    "    UnprocessedDF = UnprocessedDF[UnprocessedDF[col] != -3]\n",
    "    UnprocessedDF = UnprocessedDF[UnprocessedDF[col] != -4]\n",
    "    UnprocessedDF = UnprocessedDF[UnprocessedDF[col] != -5]"
   ]
  },
  {
   "cell_type": "markdown",
   "metadata": {},
   "source": [
    "Because we are missing education data post 2011, but have a smaller dataset that tells us whether someone is enrolled. We then map the values for continuing education. However, if someone is not contiuing education we assume that their last education is final."
   ]
  },
  {
   "cell_type": "code",
   "execution_count": 178,
   "metadata": {},
   "outputs": [],
   "source": [
    "listofyears = [1997,1998,1999,2000,2001,2002,2003,2004,2005,2006,2007,2008,2009,2010,2011,2013,2015,2017,2019]\n",
    "\n",
    "\n",
    "educationcolumn = []\n",
    "educationcolumn.append(['CV_ENROLLSTAT'])\n",
    "educationcolumn.append(sorted([col for col in UnprocessedDF.columns if \"CV_ENROLLSTAT_EDT\" in col]))\n",
    "educationcolumn.append(sorted([col for col in UnprocessedDF.columns if \"CV_ENROLLSTAT.\" in col]))\n",
    "educationcolumn.append(sorted([col for col in UnprocessedDF.columns if \"SCH_COLLEGE_STATUS\" in col]))\n",
    "\n",
    "\n",
    "educationcolumn = [item for sublist in educationcolumn for item in sublist]\n"
   ]
  },
  {
   "cell_type": "code",
   "execution_count": 179,
   "metadata": {},
   "outputs": [],
   "source": [
    "\n",
    "\n",
    "\n",
    "fulllistofyears = [1997,1998,1999,2000,2001,2002,2003,2004,2005,2006,2007,2008,2009,2010,2011,2012,2013,2014,2015,2016,2017,2018,2019]\n",
    "\n",
    "for i,a in enumerate(educationcolumn):\n",
    "    NewColumnName = \"EducationStat_\" + str(fulllistofyears[i])\n",
    "    UnprocessedDF[NewColumnName] = UnprocessedDF[a]\n",
    "    "
   ]
  },
  {
   "cell_type": "code",
   "execution_count": 180,
   "metadata": {},
   "outputs": [],
   "source": [
    "#If we are studying then we recode it so that it's mapped. However, if we are not studying then we take the last good value from before the new poll format\n",
    "\n",
    "def recode_collegestat(row, oldyr, newyr):\n",
    "    if row[newyr] == 2:\n",
    "        return 9  # Recode to 0 if conditions are met\n",
    "    elif row[newyr] == 3:\n",
    "        return 10\n",
    "    elif row[newyr] == 4:\n",
    "        return 11\n",
    "    elif row[newyr] == 1:\n",
    "        return 99\n",
    "    else:\n",
    "        return row[oldyr]  # Keep original value otherwise\n",
    "\n",
    "# Apply the function to recode education according to last good value\n",
    "UnprocessedDF['EducationStat_2012'] = UnprocessedDF.apply(lambda row: recode_collegestat(row, 'EducationStat_2011', 'EducationStat_2012'), axis=1)\n",
    "UnprocessedDF['EducationStat_2013'] = UnprocessedDF.apply(lambda row: recode_collegestat(row, 'EducationStat_2012', 'EducationStat_2013'), axis=1)\n",
    "UnprocessedDF['EducationStat_2014'] = UnprocessedDF.apply(lambda row: recode_collegestat(row, 'EducationStat_2013', 'EducationStat_2014'), axis=1)\n",
    "UnprocessedDF['EducationStat_2015'] = UnprocessedDF.apply(lambda row: recode_collegestat(row, 'EducationStat_2014', 'EducationStat_2015'), axis=1)\n",
    "UnprocessedDF['EducationStat_2016'] = UnprocessedDF.apply(lambda row: recode_collegestat(row, 'EducationStat_2015', 'EducationStat_2016'), axis=1)\n",
    "UnprocessedDF['EducationStat_2017'] = UnprocessedDF.apply(lambda row: recode_collegestat(row, 'EducationStat_2016', 'EducationStat_2017'), axis=1)\n",
    "UnprocessedDF['EducationStat_2018'] = UnprocessedDF.apply(lambda row: recode_collegestat(row, 'EducationStat_2017', 'EducationStat_2018'), axis=1)\n",
    "UnprocessedDF['EducationStat_2019'] = UnprocessedDF.apply(lambda row: recode_collegestat(row, 'EducationStat_2018', 'EducationStat_2019'), axis=1)\n",
    "\n"
   ]
  },
  {
   "cell_type": "code",
   "execution_count": 181,
   "metadata": {},
   "outputs": [],
   "source": [
    "EducationColumns = sorted([col for col in UnprocessedDF.columns if \"EducationStat_\" in col])\n",
    "EducationColumnsReverse = EducationColumns[::-1]"
   ]
  },
  {
   "cell_type": "markdown",
   "metadata": {},
   "source": [
    "We further replace empty values with the last valid value."
   ]
  },
  {
   "cell_type": "code",
   "execution_count": 182,
   "metadata": {},
   "outputs": [],
   "source": [
    "#Replaces Invalid values with the Value Last Given\n",
    "\n",
    "ValuesToReplace = [-4,-5,-3,-2,-1]\n",
    "\n",
    "for index, row in UnprocessedDF.iterrows():\n",
    "    recent_outside_value = None\n",
    "    \n",
    "    # Iterate over each column in the sorted list\n",
    "    for col in EducationColumns:\n",
    "        if row[col] in ValuesToReplace:\n",
    "            # Replace with the first value outside the list if found\n",
    "            if recent_outside_value is not None:\n",
    "                UnprocessedDF.at[index, col] = recent_outside_value\n",
    "        else:\n",
    "            # Record the first value outside the list\n",
    "                recent_outside_value = row[col]\n",
    "    \n",
    "\n",
    "\n",
    "#However, if one is in education, we then assume that they graduate after and thereby are promoted to the next good value.\n",
    "\n",
    "ValuesToReplace = [99]\n",
    "NonStableValues = [9,10,11]\n",
    "\n",
    "\n"
   ]
  },
  {
   "cell_type": "code",
   "execution_count": 183,
   "metadata": {},
   "outputs": [],
   "source": [
    "#Remove\n",
    "\n",
    "for index, row in UnprocessedDF.iterrows():\n",
    "    recent_outside_value = None\n",
    "    \n",
    "    # Iterate over each column in the sorted list\n",
    "    for col in EducationColumns:\n",
    "        if row[col] in ValuesToReplace:\n",
    "            # Replace with the first value outside the list if found\n",
    "            if recent_outside_value == 9:\n",
    "                UnprocessedDF.at[index, col] = 5\n",
    "            elif recent_outside_value == 10:\n",
    "                UnprocessedDF.at[index, col] = 6\n",
    "            elif recent_outside_value == 11:\n",
    "                UnprocessedDF.at[index, col] = 7\n",
    "            else:\n",
    "                UnprocessedDF.at[index, col] = recent_outside_value\n",
    "        else:\n",
    "            # Record the first value outside the list\n",
    "                recent_outside_value = row[col]"
   ]
  },
  {
   "cell_type": "code",
   "execution_count": 184,
   "metadata": {},
   "outputs": [],
   "source": [
    "for col in EducationColumns:\n",
    "    UnprocessedDF = UnprocessedDF[UnprocessedDF[col] != -1]\n",
    "    UnprocessedDF = UnprocessedDF[UnprocessedDF[col] != -2]\n",
    "    UnprocessedDF = UnprocessedDF[UnprocessedDF[col] != -3]\n",
    "    UnprocessedDF = UnprocessedDF[UnprocessedDF[col] != -4]\n",
    "    UnprocessedDF = UnprocessedDF[UnprocessedDF[col] != -5]"
   ]
  },
  {
   "cell_type": "code",
   "execution_count": 185,
   "metadata": {},
   "outputs": [],
   "source": [
    "#Remove the \".48\" and the'.12' so that we can loop.\n",
    "\n",
    "#Remove all columns\n",
    "\n",
    "UnprocessedDF.columns = UnprocessedDF.columns.str.replace(r'\\.48$', '', regex=True)\n",
    "\n",
    "UnprocessedDF.columns = UnprocessedDF.columns.str.replace(r'\\.12$', '', regex=True)\n",
    "UnprocessedDF['HasSibling'] = UnprocessedDF['YOUTH_SIBID01.01']\n",
    "\n",
    "UnprocessedDF.loc[UnprocessedDF['HasSibling'] > 0, 'HasSibling'] = 1\n",
    "UnprocessedDF.loc[UnprocessedDF['HasSibling'] == -4, 'HasSibling'] = 0\n",
    "\n",
    "\n",
    "# Remove people with No Parents living in the Household\n",
    "\n",
    "UnprocessedDF = UnprocessedDF[UnprocessedDF['YOUTH_PARENTGUAR.01'] == 1]\n",
    "\n",
    "# Single Parent or Double Parent HH = 0 for Single 1 for Double\n",
    "UnprocessedDF['SingleorDoubleParent'] = UnprocessedDF['YOUTH_NONR1INHH.01']\n",
    "\n",
    "#Loop through a LIST OF COLUMNS and then find what we should keep\n",
    "\n",
    "ListOfColumnstoKeep = ['ChildProduced','EMP_Hours','FinalState','KEY!AGEDOL','KEY!SEX','MAR_STATUS','EducationStat','HasSibling','SingleorDoubleParent','EMP_HOURS']\n",
    "\n",
    "columns_to_keep = [col for col in UnprocessedDF.columns if any(value in col for value in ListOfColumnstoKeep)]\n",
    "\n",
    "\n",
    "UnprocessedDF = UnprocessedDF[columns_to_keep]"
   ]
  },
  {
   "cell_type": "code",
   "execution_count": 186,
   "metadata": {},
   "outputs": [],
   "source": [
    "#Create a new column to allow for the replacement of the marriage column\n",
    "\n",
    "# So originally it would be 0 for Single, 1 for Cohabilitating, 2 for Marriage, 3 for Seperated.\n",
    "\n",
    "# We will change that so that  0 for Single and Not Sexually Active, 1 for Single and Sexually Active, 2 for Single and SA with a child, 3 for Cohabitating, 4 for Cohabilitating with a child\n",
    "# 5 for Married, 6 for Married with a Child, 7 for Divorced, 8 for Divorced with a Child\n",
    "\n",
    "\n",
    "def createfinalmarr(row, marriage, sexuallyactive,kids):\n",
    "    #Check if sexually active ever\n",
    "    if (row[marriage] == 0 and row[sexuallyactive] == 0):\n",
    "        return 0\n",
    "    elif (row[marriage] == 0 and row[sexuallyactive] == 1 and row[kids] == 0):\n",
    "        return 1\n",
    "    elif (row[marriage] == 0 and row[sexuallyactive] == 1 and row[kids] == 1):\n",
    "        return 2\n",
    "    elif (row[marriage] == 1 and row[kids] == 0):\n",
    "        return 3\n",
    "    elif (row[marriage] == 1 and row[kids] == 1):\n",
    "        return 4\n",
    "    elif (row[marriage] == 2 and row[kids] == 0):\n",
    "        return 5\n",
    "    elif (row[marriage] == 2 and row[kids] == 1):\n",
    "        return 6\n",
    "    elif (row[marriage] == 3 and row[kids] == 0):\n",
    "        return 7\n",
    "    elif (row[marriage] == 3 and row[kids] == 1):\n",
    "        return 8\n",
    "    else:\n",
    "        return 999\n",
    "\n",
    "\n",
    "SexualActivitycols = sorted([col for col in UnprocessedDF.columns if \"FinalState_\" in col])\n",
    "Relationshipcols = sorted([col for col in UnprocessedDF.columns if \"MAR_STATUS_\" in col])\n",
    "Childproduced = sorted([col for col in UnprocessedDF.columns if \"ChildProduced_\" in col])\n",
    "\n",
    "fulllistofyears = [1997,1998,1999,2000,2001,2002,2003,2004,2005,2006,2007,2008,2009,2010,2011,2012,2013,2014,2015,2016,2017,2018,2019]\n",
    "\n",
    "\n",
    "\n",
    "\n",
    "for i,(a,b,c) in enumerate(zip(Relationshipcols,SexualActivitycols,Childproduced)):\n",
    "    # Apply logic so that the married individuals are sexually active\n",
    "    NewColumnName = \"FinalRelationshipStat_\" + str(fulllistofyears[i])\n",
    "    UnprocessedDF[NewColumnName] = UnprocessedDF.apply(lambda row: createfinalmarr(row, a, b,c), axis=1)\n",
    "\n",
    "ListOfColumnstoKeep = ['EMP_Hours','KEY!AGEDOL','KEY!SEX','FinalRelationshipStat_','EducationStat','HasSibling','SingleorDoubleParent','EMP_HOURS']\n",
    "\n",
    "columns_to_keep = [col for col in UnprocessedDF.columns if any(value in col for value in ListOfColumnstoKeep)]\n",
    "\n",
    "\n",
    "UnprocessedDF = UnprocessedDF[columns_to_keep]"
   ]
  },
  {
   "cell_type": "code",
   "execution_count": 187,
   "metadata": {},
   "outputs": [],
   "source": [
    "#Shift Age Up by One Year since we start in 1997 not 1996\n",
    "\n",
    "UnprocessedDF['KEY!AGEDOL'] = UnprocessedDF['KEY!AGEDOL'] + 1\n",
    "\n",
    "years = [1997,1998,1999,2000,2001,2002,2003,2004,2005,2006,2007,2008,2009,2010,2011,2012,2013,2014,2015,2016,2017,2018,2019]\n"
   ]
  },
  {
   "cell_type": "code",
   "execution_count": 188,
   "metadata": {},
   "outputs": [],
   "source": [
    "import re\n",
    "\n",
    "years = [1997,1998,1999,2000,2001,2002,2003,2004,2005,2006,2007,2008,2009,2010,2011,2012,2013,2014,2015,2016,2017,2018,2019]\n",
    "\n",
    "# Calculate birth year for each individual\n",
    "UnprocessedDF['BirthYear'] = min(years) - UnprocessedDF['KEY!AGEDOL']\n",
    "\n",
    "# Identify all base column names (e.g., 'FinalState', 'OtherState', etc.)\n",
    "base_names = set([col.rsplit('_', 1)[0] for col in UnprocessedDF.columns if col.split('_')[-1].isdigit()])\n",
    "\n",
    "UnprocessedDF = UnprocessedDF[sorted(UnprocessedDF.columns)]"
   ]
  },
  {
   "cell_type": "code",
   "execution_count": 189,
   "metadata": {},
   "outputs": [],
   "source": [
    "# Create age-based columns\n",
    "for base_name in base_names:\n",
    "    # Calculate the age range across all years\n",
    "    min_age = (min(years) - UnprocessedDF['BirthYear']).min()\n",
    "    max_age = (max(years) - UnprocessedDF['BirthYear']).max()\n",
    "    \n",
    "    for age in range(int(min_age), int(max_age) + 1):\n",
    "        new_col_name = f\"{base_name}_{age}\"\n",
    "        UnprocessedDF[new_col_name] = None\n",
    "\n",
    "        for year in years:\n",
    "            year_col = f\"{base_name}_{year}\"\n",
    "            if year_col in UnprocessedDF.columns:\n",
    "                # Calculate the age for each individual in this specific year\n",
    "                current_age = year - UnprocessedDF['BirthYear']\n",
    "                mask = (current_age == age)\n",
    "                UnprocessedDF.loc[mask, new_col_name] = UnprocessedDF.loc[mask, year_col]"
   ]
  },
  {
   "cell_type": "code",
   "execution_count": 190,
   "metadata": {},
   "outputs": [],
   "source": [
    "year_columns = [col for col in UnprocessedDF.columns if col.split('_')[-1] in map(str, years)]\n",
    "UnprocessedDF = UnprocessedDF.drop(year_columns, axis=1)\n",
    "\n",
    "\n",
    "suffixes = ['_13', '_14', '_15', '_16', '_36', '_37', '_38', '_39']\n",
    "\n",
    "# Get a list of columns that end with any of these suffixes\n",
    "columns_to_drop = [col for col in UnprocessedDF.columns if any(col.endswith(suffix) for suffix in suffixes)]\n",
    "\n",
    "\n",
    "ProcessedDF = UnprocessedDF.drop(columns=columns_to_drop)"
   ]
  },
  {
   "cell_type": "code",
   "execution_count": 191,
   "metadata": {},
   "outputs": [],
   "source": [
    "ProcessedDF = ProcessedDF.rename(columns={'KEY!AGEDOL': 'Age', 'KEY!SEX': 'Sex'})\n",
    "\n",
    "ProcessedDF['Sex'] = ProcessedDF['Sex'].replace(1, 0)\n",
    "ProcessedDF['Sex'] = ProcessedDF['Sex'].replace(2, 1)\n",
    "\n",
    "ProcessedDF.to_csv('ProcessedDF-New.csv')"
   ]
  },
  {
   "cell_type": "code",
   "execution_count": null,
   "metadata": {},
   "outputs": [],
   "source": [
    "end = 3551\n",
    "start = 1\n",
    "\n",
    "sample_size = int(0.2 * (end - start + 1))\n",
    "# Generate the random sample\n",
    "np.random.seed(42) \n",
    "sampleid = np.random.choice(range(start, end+1), size=sample_size, replace=False)\n",
    "sampleid.sort()\n",
    "sampleidcsv = pd.DataFrame(sampleid)\n",
    "sampleidcsv.to_csv('ProperSample.csv')"
   ]
  }
 ],
 "metadata": {
  "kernelspec": {
   "display_name": "base",
   "language": "python",
   "name": "python3"
  },
  "language_info": {
   "codemirror_mode": {
    "name": "ipython",
    "version": 3
   },
   "file_extension": ".py",
   "mimetype": "text/x-python",
   "name": "python",
   "nbconvert_exporter": "python",
   "pygments_lexer": "ipython3",
   "version": "3.10.9"
  }
 },
 "nbformat": 4,
 "nbformat_minor": 2
}
